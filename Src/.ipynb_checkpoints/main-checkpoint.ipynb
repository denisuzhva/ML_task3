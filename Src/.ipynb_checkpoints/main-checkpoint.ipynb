{
 "cells": [
  {
   "cell_type": "code",
   "execution_count": 1,
   "metadata": {},
   "outputs": [],
   "source": [
    "%matplotlib inline\n",
    "from time import time, sleep\n",
    "import numpy as np\n",
    "import matplotlib.pyplot as plt\n",
    "from mlxtend.data import loadlocal_mnist\n",
    "from IPython import display"
   ]
  },
  {
   "cell_type": "code",
   "execution_count": 2,
   "metadata": {},
   "outputs": [],
   "source": [
    "#np.random.seed(96)"
   ]
  },
  {
   "cell_type": "code",
   "execution_count": 3,
   "metadata": {},
   "outputs": [],
   "source": [
    "%run modules.ipynb"
   ]
  },
  {
   "cell_type": "code",
   "execution_count": 4,
   "metadata": {},
   "outputs": [],
   "source": [
    "def sgd_momentum(x, dx, config, state):\n",
    "    \"\"\"\n",
    "        This is a very ugly implementation of sgd with momentum \n",
    "        just to show an example how to store old grad in state.\n",
    "        \n",
    "        config:\n",
    "            - momentum\n",
    "            - learning_rate\n",
    "        state:\n",
    "            - old_grad\n",
    "    \"\"\"\n",
    "    \n",
    "    # x and dx have complex structure, old dx will be stored in a simpler one\n",
    "    state.setdefault('old_grad', {})\n",
    "    \n",
    "    i = 0 \n",
    "    for cur_layer_x, cur_layer_dx in zip(x,dx): \n",
    "        for cur_x, cur_dx in zip(cur_layer_x,cur_layer_dx):\n",
    "            \n",
    "            cur_old_grad = state['old_grad'].setdefault(i, np.zeros_like(cur_dx))\n",
    "            \n",
    "            np.add(config['momentum'] * cur_old_grad, config['learning_rate'] * cur_dx, out = cur_old_grad)\n",
    "            \n",
    "            cur_x -= cur_old_grad\n",
    "            i += 1"
   ]
  },
  {
   "cell_type": "code",
   "execution_count": 5,
   "metadata": {},
   "outputs": [],
   "source": [
    "# batch generator\n",
    "def get_batches(dataset, batch_size):\n",
    "    X, Y = dataset\n",
    "    n_samples = X.shape[0]\n",
    "        \n",
    "    # Shuffle at the start of epoch\n",
    "    indices = np.arange(n_samples)\n",
    "    np.random.shuffle(indices)\n",
    "    \n",
    "    for start in range(0, n_samples, batch_size):\n",
    "        end = min(start + batch_size, n_samples)\n",
    "        \n",
    "        batch_idx = indices[start:end]\n",
    "    \n",
    "        yield X[batch_idx], Y[batch_idx]"
   ]
  },
  {
   "cell_type": "code",
   "execution_count": 6,
   "metadata": {},
   "outputs": [],
   "source": [
    "# Preprocess the data\n",
    "x_train, y_train = loadlocal_mnist(\n",
    "        images_path='../Data/train-images-idx3-ubyte', \n",
    "        labels_path='../Data/train-labels-idx1-ubyte')\n",
    "x_test, y_test = loadlocal_mnist(\n",
    "        images_path='../Data/t10k-images-idx3-ubyte',\n",
    "        labels_path='../Data/t10k-labels-idx1-ubyte')\n",
    "\n",
    "# define dataset metadata\n",
    "n_train_samples = y_train.shape[0]\n",
    "n_test_samples = y_test.shape[0]\n",
    "n_features = x_train.shape[1]\n",
    "n_classes = y_train.max() + 1\n",
    "\n",
    "# normalize\n",
    "x_train = x_train.astype(float) / 255.0\n",
    "x_test = x_test.astype(float) / 255.0\n",
    "\n",
    "# make onehot\n",
    "y_train_oh = np.zeros((y_train.shape[0], n_classes), dtype=float)\n",
    "y_test_oh = np.zeros((y_test.shape[0], n_classes), dtype=float)\n",
    "for i in range(n_train_samples):\n",
    "    y_train_oh[i][y_train[i]] = 1.0\n",
    "for i in range(n_test_samples):\n",
    "    y_test_oh[i][y_test[i]] = 1.0\n"
   ]
  },
  {
   "cell_type": "code",
   "execution_count": 7,
   "metadata": {
    "scrolled": true
   },
   "outputs": [],
   "source": [
    "# Iptimizer params\n",
    "optimizer_config = {'learning_rate' : 1e-1, 'momentum': 0.9}\n",
    "optimizer_state = {}\n",
    "\n",
    "# Looping params\n",
    "n_epoch = 10\n",
    "batch_size = 200"
   ]
  },
  {
   "cell_type": "code",
   "execution_count": 8,
   "metadata": {},
   "outputs": [
    {
     "name": "stdout",
     "output_type": "stream",
     "text": [
      "Linear 784 -> 400\n",
      "ReLU\n",
      "Dropout\n",
      "Linear 400 -> 100\n",
      "ReLU\n",
      "Linear 100 -> 10\n",
      "SoftMax\n",
      "\n"
     ]
    }
   ],
   "source": [
    "net = Sequential()\n",
    "net.add(Linear(x_train.shape[1], 400))\n",
    "net.add(ReLU())\n",
    "net.add(Dropout(0.8))\n",
    "net.add(Linear(400, 100))\n",
    "net.add(Sigmoid())\n",
    "net.add(Linear(100, 10))\n",
    "net.add(SoftMax())\n",
    "\n",
    "criterion = MSECriterion()\n",
    "\n",
    "print(net)"
   ]
  },
  {
   "cell_type": "code",
   "execution_count": 9,
   "metadata": {},
   "outputs": [],
   "source": [
    "# Training and testing\n",
    "train_loss_history = []\n",
    "test_loss_history = []\n",
    "\n",
    "for i in range(n_epoch):\n",
    "    for x_batch, y_batch in get_batches((x_train, y_train_oh), batch_size):\n",
    "        \n",
    "        net.zeroGradParameters()\n",
    "        \n",
    "        # Forward\n",
    "        predictions = net.forward(x_batch)\n",
    "        loss = criterion.forward(predictions, y_batch)\n",
    "    \n",
    "        # Backward\n",
    "        dp = criterion.backward(predictions, y_batch)\n",
    "        net.backward(x_batch, dp)\n",
    "        \n",
    "        # Update weights\n",
    "        sgd_momentum(net.getParameters(), \n",
    "                     net.getGradParameters(), \n",
    "                     optimizer_config,\n",
    "                     optimizer_state)      \n",
    "        \n",
    "        train_loss_history.append(loss)\n",
    "    \n",
    "    # Test\n",
    "    test_pred = net.forward(x_test)\n",
    "    test_loss = criterion.forward(test_pred, y_test_oh)\n",
    "    test_loss_history.append(test_loss)"
   ]
  },
  {
   "cell_type": "code",
   "execution_count": 10,
   "metadata": {},
   "outputs": [
    {
     "data": {
      "image/png": "[encoded data removed]",
      "text/plain": [
       "<Figure size 576x432 with 1 Axes>"
      ]
     },
     "metadata": {
      "needs_background": "light"
     },
     "output_type": "display_data"
    },
    {
     "name": "stdout",
     "output_type": "stream",
     "text": [
      "Current train loss: 0.040752\n",
      "Current test loss: 0.042337\n"
     ]
    }
   ],
   "source": [
    "# Visualize\n",
    "display.clear_output(wait=True)\n",
    "plt.figure(figsize=(8, 6))\n",
    "\n",
    "plt.title(\"Training loss\")\n",
    "plt.xlabel(\"#epoch\")\n",
    "plt.ylabel(\"loss\")\n",
    "epoch_ticks = np.arange(0, len(train_loss_history), dtype=float) / (n_train_samples // batch_size)\n",
    "plt.plot(epoch_ticks, train_loss_history, 'b')\n",
    "plt.plot(test_loss_history, 'r')\n",
    "\n",
    "plt.show()\n",
    "\n",
    "print('Current train loss: %f' % loss)\n",
    "print('Current test loss: %f' % test_loss)"
   ]
  },
  {
   "cell_type": "code",
   "execution_count": null,
   "metadata": {},
   "outputs": [],
   "source": []
  }
 ],
 "metadata": {
  "kernelspec": {
   "display_name": "Python 3",
   "language": "python",
   "name": "python3"
  },
  "language_info": {
   "codemirror_mode": {
    "name": "ipython",
    "version": 3
   },
   "file_extension": ".py",
   "mimetype": "text/x-python",
   "name": "python",
   "nbconvert_exporter": "python",
   "pygments_lexer": "ipython3",
   "version": "3.6.8"
  }
 },
 "nbformat": 4,
 "nbformat_minor": 2
}
